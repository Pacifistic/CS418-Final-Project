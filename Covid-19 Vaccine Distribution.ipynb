{
 "cells": [
  {
   "cell_type": "code",
   "execution_count": 2,
   "metadata": {},
   "outputs": [],
   "source": [
    "import numpy as np\n",
    "import pandas as pd\n",
    "import matplotlib.pyplot as plt"
   ]
  },
  {
   "cell_type": "code",
   "execution_count": 10,
   "metadata": {},
   "outputs": [],
   "source": [
    "Pfizer = pd.read_csv(\"COVID-19_Vaccine_Distribution_Allocations_by_Jurisdiction_-_Pfizer.csv\")\n",
    "Moderna = pd.read_csv(\"COVID-19_Vaccine_Distribution_Allocations_by_Jurisdiction_-_Moderna.csv\")\n",
    "Janssen = pd.read_csv(\"COVID-19_Vaccine_Distribution_Allocations_by_Jurisdiction_-_Janssen.csv\")"
   ]
  },
  {
   "cell_type": "code",
   "execution_count": null,
   "metadata": {},
   "outputs": [],
   "source": []
  }
 ],
 "metadata": {
  "kernelspec": {
   "display_name": "Python 3",
   "language": "python",
   "name": "python3"
  },
  "language_info": {
   "codemirror_mode": {
    "name": "ipython",
    "version": 3
   },
   "file_extension": ".py",
   "mimetype": "text/x-python",
   "name": "python",
   "nbconvert_exporter": "python",
   "pygments_lexer": "ipython3",
   "version": "3.8.5"
  }
 },
 "nbformat": 4,
 "nbformat_minor": 4
}
